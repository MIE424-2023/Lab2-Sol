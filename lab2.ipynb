{
 "cells": [
  {
   "attachments": {},
   "cell_type": "markdown",
   "metadata": {},
   "source": [
    "## MIE424 (2023 Winter) Lab 2\n",
    "\n",
    "In this lab, you will be implementing the Bisection method for finding a local optimum of a univariate function. See Chapter 3.7 in [ALG]."
   ]
  },
  {
   "cell_type": "code",
   "execution_count": null,
   "metadata": {},
   "outputs": [],
   "source": [
    "from typing import Callable, Tuple, Optional\n",
    "\n",
    "import matplotlib.pyplot as plt\n",
    "import abc\n",
    "import math\n",
    "import numpy as np\n",
    "\n",
    "%matplotlib inline"
   ]
  },
  {
   "attachments": {},
   "cell_type": "markdown",
   "metadata": {},
   "source": [
    "### The UnivariateFunction class\n",
    "\n",
    "In this lab, we define each test function to be a child class of the superclass called *UnivariateFunction*. Any class that inherits this superclass should be specified by a domain and range (range is only for visualization). Also, we need to implement the *prime* method which returns the derivative of the function evaluated at a specific $x$ value."
   ]
  },
  {
   "cell_type": "code",
   "execution_count": null,
   "metadata": {},
   "outputs": [],
   "source": [
    "class UnivariateFunction:\n",
    "    def __init__(self, a: float, b: float, ya: Optional[float] = None, yb: Optional[float] = None):\n",
    "        self.a: float = a\n",
    "        self.b: float = b\n",
    "        if ya is not None:\n",
    "            self.ya: float = ya\n",
    "        if yb is not None:\n",
    "            self.yb: float = yb\n",
    "    \n",
    "    @abc.abstractmethod\n",
    "    def prime(self, *args, **kwargs) -> float:\n",
    "        \"\"\"Implement f'(x)=df/dx(x)\"\"\"\n",
    "        pass\n",
    "\n",
    "    @abc.abstractmethod\n",
    "    def __call__(self, x: float) -> float:\n",
    "        \"\"\"Implement f(x)\"\"\"\n",
    "        pass\n",
    "    \n",
    "    @property\n",
    "    def xrange(self):                       # Just for plotting\n",
    "        if not hasattr(self, '_xrange'):\n",
    "            self._xrange = np.linspace(self.a, self.b, 100)\n",
    "        return self._xrange\n",
    "\n",
    "    def plot(self):\n",
    "        fig, ax = plt.subplots(1, 1, figsize=(3, 3))\n",
    "        ax.set_xlabel(r'$x$')\n",
    "        ax.set_ylabel(r'$f$')\n",
    "        ax.set_xlim(self.a, self.b)\n",
    "        ax2 = ax.twinx()\n",
    "        ax2.set_ylabel(r\"$f'$\")\n",
    "        if hasattr(self, 'ya') and hasattr(self, 'yb'):\n",
    "            ax.set_ylim(self.ya, self.yb)\n",
    "        fline = ax.plot(self.xrange, np.vectorize(self)(self.xrange), 'b-', label='f')\n",
    "        f_p_line = ax2.plot(self.xrange, np.vectorize(self.prime)(self.xrange), 'c-', label=\"f'\")\n",
    "        f_p_zero = ax2.axhline(0, color='c', linestyle='-.', lw=1)\n",
    "        lines = fline + f_p_line\n",
    "        ax.legend(lines, [l.get_label() for l in lines], loc=0)\n",
    "        return fig, ax"
   ]
  },
  {
   "attachments": {},
   "cell_type": "markdown",
   "metadata": {},
   "source": [
    "Let's now define an example test function to play with (Problem02 from [here](http://infinity77.net/global_optimization/test_functions_1d.html)):\n",
    " $f_{P2}(x) = \\sin(x) + \\sin\\big(\\frac{10}{3}x\\big)$.\n",
    "\n",
    "The domain bound constraint is $x\\in[2.7,7.5]$; and a rough range is $y\\in [-2.0, 1.0]$.\n",
    "\n",
    "With this, complete the following code that implements $f(x)$ and $f'(x)$."
   ]
  },
  {
   "cell_type": "code",
   "execution_count": null,
   "metadata": {},
   "outputs": [],
   "source": [
    "class Problem2(UnivariateFunction):\n",
    "\n",
    "    def __init__(self, a: float = 2.7, b: float = 7.5, ya=-2.0, yb=1.0):\n",
    "        super().__init__(a, b, ya=ya, yb=yb)\n",
    "    \n",
    "    def prime(self, x: float) -> float:\n",
    "        ####################################\n",
    "        # Your code here\n",
    "        \n",
    "        return\n",
    "        ####################################\n",
    "        \n",
    "    \n",
    "    def __call__(self, x: float) -> float:\n",
    "        ####################################\n",
    "        # Your code here\n",
    "        \n",
    "        return\n",
    "        ####################################"
   ]
  },
  {
   "attachments": {},
   "cell_type": "markdown",
   "metadata": {},
   "source": [
    "### The Optimizer class\n",
    "\n",
    "Now, let's define an abstract Optimizer class. An Optimizer object should specify which objective function it is optimizing. Then, by calling the *optimize* method, it should run optimization."
   ]
  },
  {
   "cell_type": "code",
   "execution_count": null,
   "metadata": {},
   "outputs": [],
   "source": [
    "class Optimizer:\n",
    "    def __init__(self, func: UnivariateFunction) -> None:\n",
    "        self.obj_func = func\n",
    "\n",
    "    @abc.abstractmethod\n",
    "    def optimize(self, *args, **kwargs):\n",
    "        \"\"\"An abstract method that every Opimizer class should implement\"\"\"\n",
    "        pass\n",
    "    \n",
    "    @property\n",
    "    def obj_func(self) -> UnivariateFunction:\n",
    "        return self._obj_func\n",
    "    \n",
    "    @obj_func.setter\n",
    "    def obj_func(self, obj_func: UnivariateFunction):\n",
    "        self._obj_func: UnivariateFunction = obj_func\n",
    "    \n",
    "    def plot(self, a: float, b: float, i: int):\n",
    "        fig, ax = self.obj_func.plot()\n",
    "        aline = ax.axvline(a, color='g', linestyle='--')\n",
    "        bline = ax.axvline(b, color='m', linestyle='--')\n",
    "        ax.set_title(f\"Iteration: {i}\")\n",
    "        fig.canvas.draw()"
   ]
  },
  {
   "attachments": {},
   "cell_type": "markdown",
   "metadata": {},
   "source": [
    "### The Bisection method \n",
    "The Bisection method finds an interval within which a local optimum of a given univariate function exists. The local optimum can be a local minimum or maximum; hence, the method itself is not necessarily an algorithm we can use to specifically find either a local minimum or maximum.  In any event, let's just call this an optimizer and name the class as *BisectionOptimizer* that inherits the *Optimizer* class.\n",
    "\n",
    "We have given you the code for the *optimize* method which calls two subroutines: (1) *bisection* and (2) *get_initial_interval*. Specifically, we get an initial interval to begin the bisection method with from the *get_initial_interval* method which is presented in Algorithm 3.7 of the ALG textbook. Starting from this interval, the *bisection* method should implement Algorithm 3.6 of the ALG textbook, which returns the final interval that contains a local optimum."
   ]
  },
  {
   "attachments": {},
   "cell_type": "markdown",
   "metadata": {},
   "source": [
    "**Problem 2.1** Implement the bisection algorithm given in Algorithm 3.6 of the ALG textbook.\n",
    "\n",
    "**Problem 2.2** Implement Algorithm 3.7 of the ALG textbook."
   ]
  },
  {
   "cell_type": "code",
   "execution_count": null,
   "metadata": {},
   "outputs": [],
   "source": [
    "class BisectionOptimizer(Optimizer):\n",
    "    def __init__(self, func: UnivariateFunction) -> None:\n",
    "        super().__init__(func)\n",
    "        self.iter, self.tol = 0, 1e-4\n",
    "\n",
    "    def optimize(\n",
    "            self, *args, tol: float=1e-4, plot_period: Optional[int] = None, **kwargs\n",
    "    ) -> Tuple[float, float]:\n",
    "        \"\"\"Optimizes the associated univariate function `obj_func` up to \n",
    "            a specified tolerance using the Bisection method\n",
    "\n",
    "        Args:\n",
    "            tol (float, optional): _description_. Defaults to 1e-4.\n",
    "        \"\"\"\n",
    "        init_a = self.obj_func.a + (self.obj_func.b - self.obj_func.a) / 4\n",
    "        init_a, init_b = self.get_initial_interval(self.obj_func.prime, init_a, init_a+tol, k=kwargs.get('k', 2))\n",
    "        a, b = self.bisection(self.obj_func.prime, init_a, init_b, tol=tol, plot_period=plot_period)\n",
    "        return a, b\n",
    "    \n",
    "    def bisection(\n",
    "            self, func: Callable, a: float, b: float, tol: float, plot_period: Optional[int] = None,\n",
    "    ) -> Tuple[float, float]:\n",
    "        \"\"\"Given a callable univariate function `func` and an interval [a, b], \n",
    "            find a new interval that contains a root of the function.\n",
    "\n",
    "        Args:\n",
    "            func (Callable): The univariate function\n",
    "            a (float): The start of the initial interval\n",
    "            b (float): The end of the initial interval\n",
    "            tol (float)\n",
    "            plot_period(int, optional): How often plot the function and current interval.\n",
    "        \"\"\"\n",
    "        if a > b:\n",
    "            a, b = b, a                 # Ensure a < b\n",
    "        \n",
    "        ya, yb = func(a), func(b)\n",
    "        if ya == 0:\n",
    "            b = a\n",
    "        if yb == 0:\n",
    "            a = b\n",
    "        \n",
    "        if plot_period:\n",
    "            self.plot(a, b, 0)\n",
    "\n",
    "        i = 1\n",
    "        while b - a > tol:\n",
    "            ####################################\n",
    "            # Your code here\n",
    "\n",
    "\n",
    "            ####################################\n",
    "            \n",
    "            if plot_period and i % plot_period == 0:\n",
    "                self.plot(a, b, i)\n",
    "            i += 1\n",
    "            \n",
    "        self.iter, self.tol = i - 1, tol\n",
    "        return (a, b)\n",
    "\n",
    "    def get_initial_interval(\n",
    "            self, func: Callable, a: float, b: float, k: float = 2.0,\n",
    "    ) -> Tuple[float, float]:\n",
    "        \"\"\"Given a callable univariate function `func` and the initial interval [a, b], \n",
    "            find a new interval such that `func(a)` and `func(b)` have different signs.\n",
    "\n",
    "        Args:\n",
    "            func (Callable): The univariate function\n",
    "            a (float): The start of the initial interval\n",
    "            b (float): The end of the initial interval\n",
    "            k (float, optional): The expansion factor. Defaults to 2.\n",
    "\n",
    "        Returns:\n",
    "            Tuple[float, float]: A new interval [a_, b_] such that func(a_) and func(b_) have\n",
    "                different signs.\n",
    "        \"\"\"\n",
    "        if a > b:\n",
    "            a, b = b, a                 # Ensure a < b\n",
    "        \n",
    "        ####################################\n",
    "        # Your code here\n",
    "        \n",
    "        \n",
    "        ####################################\n",
    "\n",
    "        return a, b\n",
    "    "
   ]
  },
  {
   "attachments": {},
   "cell_type": "markdown",
   "metadata": {},
   "source": [
    "### Test your implementation\n",
    "\n",
    "Now, let's test your implementation to see if everything works as intended."
   ]
  },
  {
   "cell_type": "code",
   "execution_count": null,
   "metadata": {},
   "outputs": [],
   "source": [
    "f2 = Problem2()                     # Instantiate the test function \n",
    "optimizer = BisectionOptimizer(f2)  # Instantiate the bisection optimizer"
   ]
  },
  {
   "cell_type": "code",
   "execution_count": null,
   "metadata": {},
   "outputs": [],
   "source": [
    "a, b = optimizer.optimize()\n",
    "print(f\"Obtained interval: [{a}, {b}]\")\n",
    "print(f\"Function values: [{f2(a)}, {f2(b)}]\")\n",
    "print(f\"f' values: [{f2.prime(a)}, {f2.prime(b)}]\")\n",
    "print(f\"Number of iterations: {optimizer.iter} (tol={optimizer.tol})\")"
   ]
  },
  {
   "attachments": {},
   "cell_type": "markdown",
   "metadata": {},
   "source": [
    "You can pass in a keyword argument *plot_period* into the *optimize* method to visualize the progress of the Bisection method. "
   ]
  },
  {
   "cell_type": "code",
   "execution_count": null,
   "metadata": {},
   "outputs": [],
   "source": [
    "a, b = optimizer.optimize(plot_period=5)\n",
    "print(f\"Obtained interval: [{a}, {b}]\")"
   ]
  },
  {
   "attachments": {},
   "cell_type": "markdown",
   "metadata": {},
   "source": [
    "### Test on different test functions"
   ]
  },
  {
   "attachments": {},
   "cell_type": "markdown",
   "metadata": {},
   "source": [
    "2. Problem04\n",
    "\n",
    "$f_{P4}(x) = -(16x^2-24x+5)\\cdot e^{-x}$\n",
    "\n",
    "The domain bound constraint is $x\\in[1.9, 3.9]$; and a rough range is $y\\in [-4.0, -2.4]$."
   ]
  },
  {
   "cell_type": "code",
   "execution_count": null,
   "metadata": {},
   "outputs": [],
   "source": [
    "class Problem4(UnivariateFunction):\n",
    "\n",
    "    def __init__(self, a: float = 1.9, b: float = 3.9, ya=-4.0, yb=-2.4):\n",
    "        super().__init__(a, b, ya=ya, yb=yb)\n",
    "    \n",
    "    def prime(self, x: float) -> float:\n",
    "        ####################################\n",
    "        # Your code here\n",
    "\n",
    "        return\n",
    "        ####################################\n",
    "\n",
    "    def __call__(self, x: float) -> float:\n",
    "        ####################################\n",
    "        # Your code here\n",
    "\n",
    "        return\n",
    "        ####################################"
   ]
  },
  {
   "cell_type": "code",
   "execution_count": null,
   "metadata": {},
   "outputs": [],
   "source": [
    "f4 = Problem4()\n",
    "optimizer.obj_func = f4         # Change the objective function\n",
    "a, b = optimizer.optimize()\n",
    "print(f\"Obtained interval: [{a}, {b}]\")\n",
    "print(f\"Function values: [{f4(a)}, {f4(b)}]\")\n",
    "print(f\"f' values: [{f4.prime(a)}, {f4.prime(b)}]\")\n",
    "print(f\"Number of iterations: {optimizer.iter} (tol={optimizer.tol})\")"
   ]
  },
  {
   "attachments": {},
   "cell_type": "markdown",
   "metadata": {},
   "source": [
    "3. Problem05\n",
    "\n",
    "$f_{P5}(x) = -(1.4 - 3x)\\cdot \\sin(18x)$\n",
    "\n",
    "The domain bound constraint is $x\\in[0, 1.2]$; and a rough range is $y\\in [-1.5, 2.5]$."
   ]
  },
  {
   "cell_type": "code",
   "execution_count": null,
   "metadata": {},
   "outputs": [],
   "source": [
    "class Problem5(UnivariateFunction):\n",
    "\n",
    "    def __init__(self, a: float = 0., b: float = 1.2, ya=-1.5, yb=2.5):\n",
    "        super().__init__(a, b, ya=ya, yb=yb)\n",
    "    \n",
    "    def prime(self, x: float) -> float:\n",
    "        ####################################\n",
    "        # Your code here\n",
    "\n",
    "        return\n",
    "        ####################################\n",
    "    \n",
    "    def __call__(self, x: float) -> float:\n",
    "        ####################################\n",
    "        # Your code here\n",
    "\n",
    "        return\n",
    "        ####################################"
   ]
  },
  {
   "cell_type": "code",
   "execution_count": null,
   "metadata": {},
   "outputs": [],
   "source": [
    "f5 = Problem5()\n",
    "optimizer.obj_func = f5\n",
    "a, b = optimizer.optimize()\n",
    "print(f\"Obtained interval: [{a}, {b}]\")\n",
    "print(f\"Function values: [{f5(a)}, {f5(b)}]\")\n",
    "print(f\"f' values: [{f5.prime(a)}, {f5.prime(b)}]\")\n",
    "print(f\"Number of iterations: {optimizer.iter} (tol={optimizer.tol})\")"
   ]
  },
  {
   "attachments": {},
   "cell_type": "markdown",
   "metadata": {},
   "source": [
    "4. Problem07\n",
    "\n",
    "$f_{P7}(x) = \\sin(x) + \\sin\\big(\\frac{10}{3} x \\big)+\\log(x) -0.84x + 3$\n",
    "\n",
    "The domain bound constraint is $x\\in[2.7,7.5]$; and a rough range is $y\\in [-2.0, 3.0]$."
   ]
  },
  {
   "cell_type": "code",
   "execution_count": null,
   "metadata": {},
   "outputs": [],
   "source": [
    "class Problem7(UnivariateFunction):\n",
    "\n",
    "    def __init__(self, a: float = 2.7, b: float = 7.5, ya=-2.0, yb=3.0):\n",
    "        super().__init__(a, b, ya=ya, yb=yb)\n",
    "    \n",
    "    def prime(self, x: float) -> float:\n",
    "        ####################################\n",
    "        # Your code here\n",
    "\n",
    "        return\n",
    "        ####################################\n",
    "        \n",
    "    def __call__(self, x: float) -> float:\n",
    "        ####################################\n",
    "        # Your code here\n",
    "\n",
    "        return\n",
    "        ####################################"
   ]
  },
  {
   "cell_type": "code",
   "execution_count": null,
   "metadata": {},
   "outputs": [],
   "source": [
    "f7 = Problem7()\n",
    "optimizer.obj_func = f7\n",
    "a, b = optimizer.optimize()\n",
    "print(f\"Obtained interval: [{a}, {b}]\")\n",
    "print(f\"Function values: [{f7(a)}, {f7(b)}]\")\n",
    "print(f\"f' values: [{f7.prime(a)}, {f7.prime(b)}]\")\n",
    "print(f\"Number of iterations: {optimizer.iter} (tol={optimizer.tol})\")"
   ]
  },
  {
   "attachments": {},
   "cell_type": "markdown",
   "metadata": {},
   "source": [
    "### Number of iterations vs. Tolerance ($\\epsilon$)"
   ]
  },
  {
   "cell_type": "code",
   "execution_count": null,
   "metadata": {},
   "outputs": [],
   "source": [
    "def plot_iter_vs_tol(optimizer, func=None):\n",
    "    if func:\n",
    "        optimizer.obj_func = func\n",
    "\n",
    "    itr_lst = []\n",
    "    tol_lst = []\n",
    "    for e in range(-3, -20, -1):\n",
    "        tol = math.pow(2, e)\n",
    "        optimizer.optimize(tol=tol)\n",
    "        itr_lst.append(optimizer.iter)\n",
    "        tol_lst.append(tol)\n",
    "    \n",
    "    fig, ax = plt.subplots(1, 1, figsize=(5,3))\n",
    "    ax.plot(tol_lst, itr_lst)\n",
    "    ax.set_xscale('log')\n",
    "    ax.set_xlabel(r\"Tolerance $\\epsilon$\")\n",
    "    ax.set_ylabel(\"Iterations\")"
   ]
  },
  {
   "cell_type": "code",
   "execution_count": null,
   "metadata": {},
   "outputs": [],
   "source": [
    "plot_iter_vs_tol(optimizer, func=f2)"
   ]
  },
  {
   "cell_type": "code",
   "execution_count": null,
   "metadata": {},
   "outputs": [],
   "source": [
    "plot_iter_vs_tol(optimizer, func=f4)"
   ]
  }
 ],
 "metadata": {
  "kernelspec": {
   "display_name": "mie424",
   "language": "python",
   "name": "python3"
  },
  "language_info": {
   "codemirror_mode": {
    "name": "ipython",
    "version": 3
   },
   "file_extension": ".py",
   "mimetype": "text/x-python",
   "name": "python",
   "nbconvert_exporter": "python",
   "pygments_lexer": "ipython3",
   "version": "3.10.9 (main, Jan 11 2023, 15:21:40) [GCC 11.2.0]"
  },
  "orig_nbformat": 4,
  "vscode": {
   "interpreter": {
    "hash": "8ab485049faebef398ea3f13ebf46dccd5c376b18ad361c30f9f8b6462e55110"
   }
  }
 },
 "nbformat": 4,
 "nbformat_minor": 2
}
